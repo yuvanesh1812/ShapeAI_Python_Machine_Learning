{
  "nbformat": 4,
  "nbformat_minor": 0,
  "metadata": {
    "colab": {
      "name": "Yuvanesh_Gobinath.ipynb",
      "provenance": []
    },
    "kernelspec": {
      "name": "python3",
      "display_name": "Python 3"
    },
    "language_info": {
      "name": "python"
    }
  },
  "cells": [
    {
      "cell_type": "code",
      "metadata": {
        "id": "nI_rf4rUiP1z"
      },
      "source": [
        " import numpy as np\n",
        " import pandas as pd\n",
        " import sklearn"
      ],
      "execution_count": 38,
      "outputs": []
    },
    {
      "cell_type": "code",
      "metadata": {
        "id": "56qf9MKQj5Qo"
      },
      "source": [
        "from sklearn.datasets import load_boston #load Boston Census Data\n",
        "ds = load_boston()"
      ],
      "execution_count": 39,
      "outputs": []
    },
    {
      "cell_type": "code",
      "metadata": {
        "colab": {
          "base_uri": "https://localhost:8080/"
        },
        "id": "--DtoYs0lPrI",
        "outputId": "d92f1d20-73db-4ea5-c91f-465453de047c"
      },
      "source": [
        "ds.keys() #Return all keys of this dataset dictionary"
      ],
      "execution_count": 40,
      "outputs": [
        {
          "output_type": "execute_result",
          "data": {
            "text/plain": [
              "dict_keys(['data', 'target', 'feature_names', 'DESCR', 'filename'])"
            ]
          },
          "metadata": {
            "tags": []
          },
          "execution_count": 40
        }
      ]
    },
    {
      "cell_type": "code",
      "metadata": {
        "id": "kXvSGM-lluQJ"
      },
      "source": [
        "boston = pd.DataFrame(ds.data, columns=ds.feature_names) #Organize data into a table\n",
        "boston.head()"
      ],
      "execution_count": null,
      "outputs": []
    },
    {
      "cell_type": "code",
      "metadata": {
        "id": "LrGavcA7oRRw"
      },
      "source": [
        "boston['PRICE'] = ds.target #Add targerted price column at the very end\n",
        "boston.head()\n",
        "boston.isnull().sum() #Check if there's any null data in each column"
      ],
      "execution_count": null,
      "outputs": []
    },
    {
      "cell_type": "code",
      "metadata": {
        "id": "ElHlEKUKq0Rv"
      },
      "source": [
        "from sklearn.model_selection import train_test_split\n",
        "\n",
        "X = boston.drop('PRICE', axis = 1) #drop target column and make input variable\n",
        "Y = boston['PRICE'] #target column only as output variable\n",
        "\n",
        "X_train, X_test, Y_train, Y_test = train_test_split(X, Y, test_size = 0.2, random_state = 5)\n",
        "\n",
        "print(X_train.shape)\n",
        "print(X_test.shape)\n",
        "print(Y_train.shape)\n",
        "print(Y_test.shape)"
      ],
      "execution_count": null,
      "outputs": []
    },
    {
      "cell_type": "code",
      "metadata": {
        "id": "ni3RJ4o6tqIu"
      },
      "source": [
        "from sklearn.linear_model import LinearRegression\n",
        "from sklearn.metrics import mean_squared_error "
      ],
      "execution_count": 44,
      "outputs": []
    },
    {
      "cell_type": "code",
      "metadata": {
        "colab": {
          "base_uri": "https://localhost:8080/"
        },
        "id": "h_TKPN7suAI7",
        "outputId": "158c4ec4-2e41-4426-d2cb-711f658f1d2a"
      },
      "source": [
        "#Fitting the model onto Training Dataset\n",
        "\n",
        "lin_model = LinearRegression()\n",
        "lin_model.fit(X_train, Y_train)"
      ],
      "execution_count": 45,
      "outputs": [
        {
          "output_type": "execute_result",
          "data": {
            "text/plain": [
              "LinearRegression(copy_X=True, fit_intercept=True, n_jobs=None, normalize=False)"
            ]
          },
          "metadata": {
            "tags": []
          },
          "execution_count": 45
        }
      ]
    },
    {
      "cell_type": "code",
      "metadata": {
        "id": "KkP58t7CvG7E"
      },
      "source": [
        "#For training set\n",
        "y_train_predict = lin_model.predict(X_train) #predicted training output\n",
        "rmse_train = (np.sqrt(mean_squared_error(Y_train, y_train_predict))) #root-mean-square error check\n",
        "\n",
        "print(\"The model performance for training set\")\n",
        "print(f\"RMSE is {rmse_train}\")\n",
        "print(\"\\n\")\n",
        "\n",
        "#For testing set\n",
        "y_test_predict = lin_model.predict(X_test) #predicted testing output\n",
        "rmse_test = (np.sqrt(mean_squared_error(Y_test, y_test_predict))) #root-mean-square error check\n",
        "\n",
        "print(\"The model performance for testing set\")\n",
        "print(f\"RMSE is {rmse_test}\")\n",
        "print(\"\\n\")\n"
      ],
      "execution_count": null,
      "outputs": []
    }
  ]
}